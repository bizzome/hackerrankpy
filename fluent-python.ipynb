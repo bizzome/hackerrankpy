{
 "cells": [
  {
   "cell_type": "markdown",
   "metadata": {},
   "source": [
    "# Diving into collections"
   ]
  },
  {
   "cell_type": "markdown",
   "metadata": {},
   "source": [
    "### Using * to capture exceeding elements\n",
    "\n",
    "Defining parameters with *args to capture exceeding elements is a common practice in Python. This is a simple and useful way to define functions that can receive a variable number of arguments. This is a very useful feature when you don't know how many arguments you will receive.\n",
    "\n",
    "In Python 3 this ideia was extended to be aplied to parallel assignments."
   ]
  },
  {
   "cell_type": "code",
   "execution_count": 3,
   "metadata": {},
   "outputs": [],
   "source": [
    "a, b, *left = range(43)"
   ]
  },
  {
   "cell_type": "code",
   "execution_count": 7,
   "metadata": {},
   "outputs": [
    {
     "name": "stdout",
     "output_type": "stream",
     "text": [
      "0 1 [2, 3, 4, 5, 6, 7, 8, 9, 10, 11, 12, 13, 14, 15, 16, 17, 18, 19, 20, 21, 22, 23, 24, 25, 26, 27, 28, 29, 30, 31, 32, 33, 34, 35, 36, 37, 38, 39, 40, 41, 42]\n"
     ]
    }
   ],
   "source": [
    "print(a, b, left)"
   ]
  },
  {
   "cell_type": "markdown",
   "metadata": {},
   "source": [
    "### And you can find the answer to the Ultimate Question of Life, the Universe, and Everything"
   ]
  },
  {
   "cell_type": "code",
   "execution_count": 16,
   "metadata": {},
   "outputs": [
    {
     "data": {
      "text/plain": [
       "42"
      ]
     },
     "execution_count": 16,
     "metadata": {},
     "output_type": "execute_result"
    }
   ],
   "source": [
    "# range(43) was only for this print\n",
    "left[-1]"
   ]
  },
  {
   "cell_type": "markdown",
   "metadata": {},
   "source": [
    "if there is nothing left to unpack, the * operator will capture all the remaining elements in a list."
   ]
  },
  {
   "cell_type": "code",
   "execution_count": 10,
   "metadata": {},
   "outputs": [
    {
     "data": {
      "text/plain": [
       "(0, 1, [])"
      ]
     },
     "execution_count": 10,
     "metadata": {},
     "output_type": "execute_result"
    }
   ],
   "source": [
    "a, b, *left = range(2)\n",
    "a, b, left"
   ]
  },
  {
   "cell_type": "markdown",
   "metadata": {},
   "source": [
    "in parallel attribution, the * operator could be applied in any position."
   ]
  },
  {
   "cell_type": "code",
   "execution_count": 12,
   "metadata": {},
   "outputs": [
    {
     "data": {
      "text/plain": [
       "(0, 1, [2, 3, 4, 5, 6, 7], 8, 9)"
      ]
     },
     "execution_count": 12,
     "metadata": {},
     "output_type": "execute_result"
    }
   ],
   "source": [
    "a, b, *middle, c, d = range(10)\n",
    "a, b, middle, c, d"
   ]
  },
  {
   "cell_type": "code",
   "execution_count": 13,
   "metadata": {},
   "outputs": [
    {
     "data": {
      "text/plain": [
       "([0, 1, 2, 3, 4, 5, 6], 7, 8, 9)"
      ]
     },
     "execution_count": 13,
     "metadata": {},
     "output_type": "execute_result"
    }
   ],
   "source": [
    "*start, a, b, c = range(10)\n",
    "start, a, b, c"
   ]
  },
  {
   "cell_type": "markdown",
   "metadata": {},
   "source": [
    "### Nested tuple unpacking\n",
    "\n",
    "a powerfull tuple resource is the nested tuple unpacking. When the tuple the receives an expression to be unpacked, it will be unpacked in the same order as the expression."
   ]
  },
  {
   "cell_type": "code",
   "execution_count": 14,
   "metadata": {},
   "outputs": [
    {
     "data": {
      "text/plain": [
       "(1, 2, 3)"
      ]
     },
     "execution_count": 14,
     "metadata": {},
     "output_type": "execute_result"
    }
   ],
   "source": [
    "(a, (b, c)) = (1, (2, 3))\n",
    "a, b, c"
   ]
  },
  {
   "cell_type": "code",
   "execution_count": null,
   "metadata": {},
   "outputs": [],
   "source": [
    "focus_store_items = [\n",
    "    # book_name, color, price, (sizes in cm)\n",
    "    ('Python Crash Course', 'Yellow', 335.07, (17.78, 3.25, 23.5)),\n",
    "    ('The Pragmatic Programmer', 'Black', 434.61, (18.8, 2.29, 22.86)),\n",
    "    ('Domain Driven Design', 'Blue', 91.00, (16, 2, 23)),\n",
    "    ('Fluent Python', 'Purple', 537.24, (17.78, 5.08, 23.5)),\n",
    "    ('Hands on Machine Learning', 'White', 454.51, (17.78, 4.34, 23.34))\n",
    "]"
   ]
  },
  {
   "cell_type": "code",
   "execution_count": 30,
   "metadata": {},
   "outputs": [
    {
     "name": "stdout",
     "output_type": "stream",
     "text": [
      "BOOK SIZES IN CM\n",
      "                               |   width   |  height  \n",
      "Python Crash Course            |   17.78   |   3.25   \n",
      "The Pragmatic Programmer       |   18.80   |   2.29   \n",
      "Domain Driven Design           |   16.00   |   2.00   \n",
      "Fluent Python                  |   17.78   |   5.08   \n",
      "Hands on Machine Learning      |   17.78   |   4.34   \n"
     ]
    }
   ],
   "source": [
    "print('BOOK SIZES IN CM')\n",
    "print('{:30} | {:^9} | {:^9}'.format('', 'width', 'height'))\n",
    "fmt = '{:30} | {:^9.2f} | {:^9.2f}'\n",
    "for name, color, price, (width, height, depth) in focus_store_items:\n",
    "    print(fmt.format(name, width, height))\n"
   ]
  },
  {
   "cell_type": "code",
   "execution_count": null,
   "metadata": {},
   "outputs": [],
   "source": []
  }
 ],
 "metadata": {
  "kernelspec": {
   "display_name": ".env",
   "language": "python",
   "name": "python3"
  },
  "language_info": {
   "codemirror_mode": {
    "name": "ipython",
    "version": 3
   },
   "file_extension": ".py",
   "mimetype": "text/x-python",
   "name": "python",
   "nbconvert_exporter": "python",
   "pygments_lexer": "ipython3",
   "version": "3.10.12"
  }
 },
 "nbformat": 4,
 "nbformat_minor": 2
}
